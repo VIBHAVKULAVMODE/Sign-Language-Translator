{
 "cells": [
  {
   "cell_type": "code",
   "execution_count": 1,
   "metadata": {},
   "outputs": [
    {
     "name": "stdout",
     "output_type": "stream",
     "text": [
      "[[0.29282656 0.69724166 0.49932077 ... 0.36460924 0.30919102 0.41618434]\n",
      " [0.27692923 0.70581979 0.50404412 ... 0.38585556 0.29179573 0.47934836]\n",
      " [0.31792128 0.76113606 0.54396707 ... 0.42765641 0.29895112 0.51451778]\n",
      " ...\n",
      " [0.58569735 0.78788805 0.67309117 ... 0.56536031 0.41611534 0.59038919]\n",
      " [0.6133135  0.74924445 0.68836933 ... 0.57118177 0.43614194 0.59975714]\n",
      " [0.6444217  0.72169828 0.7084353  ... 0.59352577 0.45129201 0.61295831]]\n",
      "['C']\n"
     ]
    }
   ],
   "source": [
    "import pandas as pd\n",
    "\n",
    "x_cor=pd.read_csv(\"coordinates.csv\")\n",
    "\n",
    "\n",
    "from sklearn.ensemble import RandomForestClassifier\n",
    "\n",
    "forrest_model = RandomForestClassifier(random_state=1)\n",
    "\n",
    "\n",
    "import numpy as np\n",
    "y=x_cor.Letter\n",
    "x = np.array(x_cor.drop([\"Letter\"],axis=1))\n",
    "print(x)\n",
    "\n",
    "forrest_model.fit(x,y)\n",
    "\n",
    "print(forrest_model.predict([x[1300]]))\n",
    "\n"
   ]
  },
  {
   "cell_type": "code",
   "execution_count": 2,
   "metadata": {},
   "outputs": [],
   "source": [
    "import cv2\n",
    "import mediapipe as mp\n",
    "mp_drawing = mp.solutions.drawing_utils\n",
    "mp_hands = mp.solutions.hands\n",
    "\n",
    "cap = cv2.VideoCapture(0)\n",
    "\n",
    "hands = mp_hands.Hands(\n",
    "    min_detection_confidence=0.7, min_tracking_confidence=0.5)\n",
    "\n",
    "while cap.isOpened():\n",
    "  success, image = cap.read()\n",
    "  if not success:\n",
    "    print(\"Ignoring empty camera frame.\")\n",
    "    # If loading a video, use 'break' instead of 'continue'.\n",
    "    continue\n",
    "\n",
    "  # Flip the image horizontally for a later selfie-view display, and convert\n",
    "  # the BGR image to RGB.\n",
    "  image = cv2.cvtColor(cv2.flip(image, 1), cv2.COLOR_BGR2RGB)\n",
    "  # To improve performance, optionally mark the image as not writeable to\n",
    "  # pass by reference.\n",
    "  image.flags.writeable = False\n",
    "  results = hands.process(image)\n",
    "  \n",
    "  # Draw the hand annotations on the image.\n",
    "  image.flags.writeable = True\n",
    "  image = cv2.cvtColor(image, cv2.COLOR_RGB2BGR)\n",
    "  \n",
    "  if results.multi_hand_landmarks:\n",
    "    points=[]\n",
    "    for hand_landmarks in results.multi_hand_landmarks:\n",
    "      for i in range(21):\n",
    "          x=hand_landmarks.landmark[i].x\n",
    "          y=hand_landmarks.landmark[i].y\n",
    "          points.append(x)\n",
    "          points.append(y)  \n",
    "    # print(points)\n",
    "    if len(points)==42:\n",
    "            predict=forrest_model.predict([points])\n",
    "    #print(predict)    \n",
    "            \n",
    "    for hand_landmarks in results.multi_hand_landmarks:\n",
    "      mp_drawing.draw_landmarks(\n",
    "          image, hand_landmarks, mp_hands.HAND_CONNECTIONS)\n",
    "  if results.multi_hand_landmarks:\n",
    "        \n",
    "      cv2.putText(image, '%s' % (predict), (100,400), cv2.FONT_HERSHEY_SIMPLEX, 4, (255,255,255), 4)\n",
    "  cv2.imshow('MediaPipe Hands', image)\n",
    "  if cv2.waitKey(5) & 0xFF == 27:\n",
    "    break\n"
   ]
  }
 ],
 "metadata": {
  "kernelspec": {
   "display_name": "Python 3",
   "language": "python",
   "name": "python3"
  },
  "language_info": {
   "codemirror_mode": {
    "name": "ipython",
    "version": 3
   },
   "file_extension": ".py",
   "mimetype": "text/x-python",
   "name": "python",
   "nbconvert_exporter": "python",
   "pygments_lexer": "ipython3",
   "version": "3.7.6"
  }
 },
 "nbformat": 4,
 "nbformat_minor": 4
}
